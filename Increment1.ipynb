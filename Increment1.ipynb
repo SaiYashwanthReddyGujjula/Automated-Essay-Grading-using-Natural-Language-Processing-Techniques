{
  "nbformat": 4,
  "nbformat_minor": 0,
  "metadata": {
    "colab": {
      "provenance": []
    },
    "kernelspec": {
      "name": "python3",
      "display_name": "Python 3"
    },
    "language_info": {
      "name": "python"
    }
  },
  "cells": [
    {
      "cell_type": "code",
      "execution_count": 1,
      "metadata": {
        "id": "Qnc_JF3JEIfZ"
      },
      "outputs": [],
      "source": [
        "#Importing the required libraries\n",
        "\n",
        "import pandas as pd\n",
        "from sklearn.feature_extraction.text import TfidfVectorizer\n",
        "from sklearn.model_selection import train_test_split\n",
        "from sklearn.svm import SVC\n",
        "from sklearn.ensemble import RandomForestClassifier\n",
        "from sklearn.naive_bayes import MultinomialNB\n",
        "from sklearn.tree import DecisionTreeClassifier\n",
        "from sklearn.neighbors import KNeighborsClassifier\n",
        "from sklearn.metrics import accuracy_score, precision_score, recall_score, f1_score\n",
        "import warnings\n",
        "warnings.filterwarnings('ignore')"
      ]
    },
    {
      "cell_type": "code",
      "source": [
        "# Loading the dataset into a pandas DataFrame\n",
        "\n",
        "df = pd.read_csv('grades.csv')"
      ],
      "metadata": {
        "id": "uY7H9fgfENyZ"
      },
      "execution_count": 3,
      "outputs": []
    },
    {
      "cell_type": "code",
      "source": [
        "# Split the dataset into training and testing sets\n",
        "\n",
        "X_train, X_test, y_train, y_test = train_test_split(df.drop(['student_id'], axis=1), df['student_id'], test_size=0.2, random_state=42)"
      ],
      "metadata": {
        "id": "3Qp2qiUeEhMQ"
      },
      "execution_count": 4,
      "outputs": []
    },
    {
      "cell_type": "code",
      "source": [
        "# Initialize the machine learning algorithms\n",
        "\n",
        "svm = SVC(kernel='linear', C=1.0)\n",
        "rf = RandomForestClassifier(n_estimators=100, random_state=42)\n",
        "nb = MultinomialNB()\n",
        "dt = DecisionTreeClassifier(random_state=42)\n",
        "knn = KNeighborsClassifier()"
      ],
      "metadata": {
        "id": "cVWsOPtuEvGs"
      },
      "execution_count": 5,
      "outputs": []
    },
    {
      "cell_type": "code",
      "source": [
        "# Fit the algorithms on the training set\n",
        "\n",
        "vectorizer = TfidfVectorizer(stop_words='english')\n",
        "X_train_vec = vectorizer.fit_transform(X_train['assignment1_submission'].astype(str) + ' ' + \n",
        "                                      X_train['assignment2_submission'].astype(str) + ' ' +\n",
        "                                      X_train['assignment3_submission'].astype(str) + ' ' + \n",
        "                                      X_train['assignment4_submission'].astype(str) + ' ' +\n",
        "                                      X_train['assignment5_submission'].astype(str) + ' ' + \n",
        "                                      X_train['assignment6_submission'].astype(str))\n",
        "X_test_vec = vectorizer.transform(X_test['assignment1_submission'].astype(str) + ' ' + \n",
        "                                   X_test['assignment2_submission'].astype(str) + ' ' + \n",
        "                                   X_test['assignment3_submission'].astype(str) + ' ' + \n",
        "                                   X_test['assignment4_submission'].astype(str) + ' ' + \n",
        "                                   X_test['assignment5_submission'].astype(str) + ' ' + \n",
        "                                   X_test['assignment6_submission'].astype(str))"
      ],
      "metadata": {
        "id": "J8fMrCYlEyFq"
      },
      "execution_count": 6,
      "outputs": []
    },
    {
      "cell_type": "code",
      "source": [
        "# Training the algorithms using .fit\n",
        "\n",
        "for classifier in [svm, rf, nb, dt, knn]:\n",
        "    classifier.fit(X_train_vec, y_train)\n",
        "    y_pred = classifier.predict(X_test_vec)"
      ],
      "metadata": {
        "id": "S1xuLl42E4Yz"
      },
      "execution_count": 7,
      "outputs": []
    },
    {
      "cell_type": "code",
      "source": [
        "import warnings\n",
        "warnings.filterwarnings('ignore')\n",
        "# Evaluate the performance of the algorithms\n",
        "\n",
        "svm_pred = svm.predict(X_test_vec)\n",
        "rf_pred = rf.predict(X_test_vec)\n",
        "nb_pred = nb.predict(X_test_vec)\n",
        "dt_pred = dt.predict(X_test_vec)\n",
        "knn_pred = knn.predict(X_test_vec)\n",
        "\n",
        "svm_acc = accuracy_score(y_test, svm_pred)\n",
        "svm_prec = precision_score(y_test, svm_pred, average='weighted')\n",
        "svm_rec = recall_score(y_test, svm_pred, average='weighted')\n",
        "svm_f1 = f1_score(y_test, svm_pred, average='weighted')\n",
        "\n",
        "rf_acc = accuracy_score(y_test, rf_pred)\n",
        "rf_prec = precision_score(y_test, rf_pred, average='weighted')\n",
        "rf_rec = recall_score(y_test, rf_pred, average='weighted')\n",
        "rf_f1 = f1_score(y_test, rf_pred, average='weighted')\n",
        "\n",
        "nb_acc = accuracy_score(y_test, nb_pred)\n",
        "nb_prec = precision_score(y_test, nb_pred, average='weighted')\n",
        "nb_rec = recall_score(y_test, nb_pred, average='weighted')\n",
        "nb_f1 = f1_score(y_test, nb_pred, average='weighted')\n",
        "\n",
        "dt_acc = accuracy_score(y_test, dt_pred)\n",
        "dt_prec = precision_score(y_test, dt_pred, average='weighted')\n",
        "dt_rec = recall_score(y_test, dt_pred, average='weighted')\n",
        "dt_f1 = f1_score(y_test, dt_pred, average='weighted')\n",
        "\n",
        "knn_acc = accuracy_score(y_test, knn_pred)\n",
        "knn_prec = precision_score(y_test, knn_pred, average='weighted')\n",
        "knn_rec = recall_score(y_test, knn_pred, average='weighted')\n",
        "knn_f1 = f1_score(y_test, knn_pred, average='weighted')"
      ],
      "metadata": {
        "id": "wHgoHx6XE8H3"
      },
      "execution_count": 10,
      "outputs": []
    },
    {
      "cell_type": "code",
      "source": [
        "# Print the evaluation results for each algorithm\n",
        "\n",
        "print('Support Vector Machine:')\n",
        "print('Accuracy: {:.3f}'.format(svm_acc))\n",
        "print('Precision: {:.3f}'.format(svm_prec))\n",
        "print('Recall: {:.3f}'.format(svm_rec))\n",
        "print('F1 Score: {:.3f}'.format(svm_f1))\n",
        "\n",
        "print('\\nRandom Forest:')\n",
        "print('Accuracy: {:.3f}'.format(rf_acc))\n",
        "print('Precision: {:.3f}'.format(rf_prec))\n",
        "print('Recall: {:.3f}'.format(rf_rec))\n",
        "print('F1 Score: {:.3f}'.format(rf_f1))\n",
        "\n",
        "print('\\nNaive Bayes:')\n",
        "print('Accuracy: {:.3f}'.format(nb_acc))\n",
        "print('Precision: {:.3f}'.format(nb_prec))\n",
        "print('Recall: {:.3f}'.format(nb_rec))\n",
        "print('F1 Score: {:.3f}'.format(nb_f1))\n",
        "\n",
        "print('\\nDecision Tree:')\n",
        "print('Accuracy: {:.3f}'.format(dt_acc))\n",
        "print('Precision: {:.3f}'.format(dt_prec))\n",
        "print('Recall: {:.3f}'.format(dt_rec))\n",
        "print('F1 Score: {:.3f}'.format(dt_f1))\n",
        "\n",
        "print('\\nK-Nearest Neighbor:')\n",
        "print('Accuracy: {:.3f}'.format(knn_acc))\n",
        "print('Precision: {:.3f}'.format(knn_prec))\n",
        "print('Recall: {:.3f}'.format(knn_rec))\n",
        "print('F1 Score: {:.3f}'.format(knn_f1))"
      ],
      "metadata": {
        "colab": {
          "base_uri": "https://localhost:8080/"
        },
        "id": "O2QOjmvoFA4B",
        "outputId": "98a21027-5413-4750-f2e6-a69625986de0"
      },
      "execution_count": 11,
      "outputs": [
        {
          "output_type": "stream",
          "name": "stdout",
          "text": [
            "Support Vector Machine:\n",
            "Accuracy: 0.112\n",
            "Precision: 0.107\n",
            "Recall: 0.112\n",
            "F1 Score: 0.103\n",
            "\n",
            "Random Forest:\n",
            "Accuracy: 0.108\n",
            "Precision: 0.107\n",
            "Recall: 0.108\n",
            "F1 Score: 0.107\n",
            "\n",
            "Naive Bayes:\n",
            "Accuracy: 0.095\n",
            "Precision: 0.071\n",
            "Recall: 0.095\n",
            "F1 Score: 0.075\n",
            "\n",
            "Decision Tree:\n",
            "Accuracy: 0.104\n",
            "Precision: 0.104\n",
            "Recall: 0.104\n",
            "F1 Score: 0.103\n",
            "\n",
            "K-Nearest Neighbor:\n",
            "Accuracy: 0.117\n",
            "Precision: 0.114\n",
            "Recall: 0.117\n",
            "F1 Score: 0.108\n"
          ]
        }
      ]
    }
  ]
}